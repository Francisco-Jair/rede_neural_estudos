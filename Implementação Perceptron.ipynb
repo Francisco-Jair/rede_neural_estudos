{
 "cells": [
  {
   "cell_type": "markdown",
   "metadata": {},
   "source": [
    "Atributos geralmente são entradas e a classificação é a saída"
   ]
  },
  {
   "cell_type": "markdown",
   "metadata": {},
   "source": [
    "o Bias é um coeficiente linear, em uma função linear o coeficiente move a reta para cima ou para baixo, isso aplicado nas\n",
    "redes neurais da uma \"liberdade\" para poder solucionar problemas."
   ]
  },
  {
   "cell_type": "markdown",
   "metadata": {},
   "source": [
    "## Perceptron de camda simples"
   ]
  },
  {
   "cell_type": "markdown",
   "metadata": {},
   "source": [
    "<img src=\"./imagens/perceptron.gif\" >\n",
    "\n",
    "Perceba na imagem acima que, durante cada iteração do algorítmo, os dados de entrada (sinais) são multiplicados por diferentes pesos, os resultados dessas multiplicações são somados para compor um somatório e, depois, o somatório obtido é somado com o valor do bias para esse resultado compor o potencial de ativação."
   ]
  },
  {
   "cell_type": "markdown",
   "metadata": {},
   "source": [
    "## Dado Ficticios\n",
    "\n",
    "Peso|Ph|Fruta\n",
    "----|--|-----\n",
    "113 |6.8|Maça\n",
    "122 |4.7|Laranja\n",
    "107 |5.2|Maça\n",
    "98  |3.6|Maça\n",
    "115 |2.9|Laranja\n",
    "120 |4.2|Laranja"
   ]
  },
  {
   "cell_type": "code",
   "execution_count": 276,
   "metadata": {},
   "outputs": [],
   "source": [
    "import numpy as np"
   ]
  },
  {
   "cell_type": "code",
   "execution_count": 277,
   "metadata": {},
   "outputs": [],
   "source": [
    "#Atributos\n",
    "peso = np.array([113, 122, 107, 98, 115, 120])\n",
    "ph = np.array([6.8, 4.7, 5.2, 3.6, 2.9, 4.2])"
   ]
  },
  {
   "cell_type": "code",
   "execution_count": 345,
   "metadata": {},
   "outputs": [],
   "source": [
    "class Perceptron():\n",
    "    \"\"\"\n",
    "    X -> A matriz com a quantidade de entradas da rede, cada coluna são valores para a entrada e as linhas\n",
    "    são a quantidade de atributos ou seja a quantidade de entradas para o perceptron.\n",
    "    \n",
    "    y -> Como é uma rede suervisionanda, já sabemos alguns valores que deve ser retornados, esses valores colocamos na rede\n",
    "    \n",
    "    bias -> E o coeficiente linear ou seja, ele que move a reta(ou o plano, depende da dimensão), para cima ou para baixo. Cada\n",
    "    Neurono tem o seu bias\n",
    "    \n",
    "    lr -> A taxa de aprendizado controla a rapidez com que o modelo é adaptado ao problema.\n",
    "    \n",
    "    w -> Vetor de peso das entradas\n",
    "    \n",
    "    número de epocas -> Epoca e quanto se percorre todos os elementos dos valores de entrada uma vez\n",
    "    \n",
    "    \n",
    "    A formula da rede neural é:\n",
    "    \n",
    "    u = somatorio das entradas vezes o peso correspondente mais o bias.\n",
    "    \n",
    "    \"\"\"\n",
    "    \n",
    "    def __init__(self, X, y, bias=1, lr=0.1, w=None):\n",
    "        self.X = X \n",
    "        self.y = y\n",
    "        self.bias = bias\n",
    "        self.lr = lr\n",
    "        self.w = w\n",
    "        \n",
    "    def funcaoAtivacao(self, valor):\n",
    "        # Função de ativação degrau bipolar\n",
    "        if valor < 0.0:\n",
    "            return -1\n",
    "        else:\n",
    "            return 1\n",
    "\n",
    "    def fit(self, numEpocas=1000):\n",
    "        \n",
    "        numamostras = self.X.shape[1]\n",
    "        e = np.zeros(numamostras) # Array para armazenar os erros\n",
    "        \n",
    "        if self.w is None:\n",
    "            #Iniciar todos os pesos zerados\n",
    "            self.w = np.zeros(2) # [Linha, Coluna], Linha-> Quantidade de redes, Coluna -> Quantidade de entradas\n",
    "            \n",
    "        for i in range(numEpocas):\n",
    "            \n",
    "            for k in range(numamostras):\n",
    "                # Multiplicar cada entrada pelo o seu peso\n",
    "                amostraK = self.X[:, k] # amostraK vai ser todos os elementos da coluna (i) da matriz de entrada\n",
    "\n",
    "                # Calcular entrada X peso da entrada\n",
    "                calcEntradaPeso = np.dot(amostraK, self.w)\n",
    "                calcEntradaPeso = calcEntradaPeso + self.bias\n",
    "                \n",
    "                # O valor de retorno da função de ativação -> Saida do perceptron\n",
    "                calcSaida = self.funcaoAtivacao(calcEntradaPeso)\n",
    "                \n",
    "                # Calculo do erro -> e = (ValorEsperado(Y) - valorObtido(calcSaida))\n",
    "                e[k] = self.y[k] - calcSaida # Vetor de erro, onde tem zero, quer dizer que foi aprendido pela rede\n",
    "                \n",
    "                # Treinamento\n",
    "                self.w = self.w + (self.lr * e[k] * amostraK) # Já atualizar todos os pesos\n",
    "                self.bias = self.bias + e[k]\n",
    "            \n",
    "            print(f\"Epoca - {i} - ERRO: {e}\")\n",
    "        \n",
    "        \n",
    "    def predict(self, X):\n",
    "        \"\"\"X -> e uma nova entrada para poder prever\"\"\"\n",
    "            \n",
    "        z = np.dot(X, self.w) + self.bias\n",
    "        output = self.funcaoAtivacao(z)\n",
    "        return output\n",
    "             "
   ]
  },
  {
   "cell_type": "code",
   "execution_count": 346,
   "metadata": {},
   "outputs": [],
   "source": [
    "# Entrada do perceptron\n",
    "X = np.vstack((peso, ph))"
   ]
  },
  {
   "cell_type": "code",
   "execution_count": 347,
   "metadata": {},
   "outputs": [],
   "source": [
    "# Saida\n",
    "Y = np.array([-1, 1, -1, -1, 1, 1])"
   ]
  },
  {
   "cell_type": "code",
   "execution_count": 351,
   "metadata": {
    "scrolled": true
   },
   "outputs": [
    {
     "name": "stdout",
     "output_type": "stream",
     "text": [
      "Epoca - 0 - ERRO: [-2.  2. -2.  0.  2.  0.]\n",
      "Epoca - 1 - ERRO: [-2.  2. -2.  0.  2.  0.]\n",
      "Epoca - 2 - ERRO: [-2.  2. -2.  0.  2.  0.]\n",
      "Epoca - 3 - ERRO: [-2.  2. -2.  0.  2.  0.]\n",
      "Epoca - 4 - ERRO: [-2.  2. -2.  0.  2.  0.]\n",
      "Epoca - 5 - ERRO: [-2.  2. -2.  0.  2.  0.]\n",
      "Epoca - 6 - ERRO: [-2.  2. -2.  0.  2.  0.]\n",
      "Epoca - 7 - ERRO: [-2.  2. -2.  0.  2.  0.]\n",
      "Epoca - 8 - ERRO: [-2.  2. -2.  0.  2.  0.]\n",
      "Epoca - 9 - ERRO: [-2.  2. -2.  0.  2.  0.]\n",
      "Epoca - 10 - ERRO: [-2.  2. -2.  0.  2.  0.]\n",
      "Epoca - 11 - ERRO: [-2.  2. -2.  0.  0.  0.]\n",
      "Epoca - 12 - ERRO: [0. 0. 0. 0. 0. 0.]\n",
      "Epoca - 13 - ERRO: [0. 0. 0. 0. 0. 0.]\n",
      "Epoca - 14 - ERRO: [0. 0. 0. 0. 0. 0.]\n"
     ]
    }
   ],
   "source": [
    "perp = Perceptron(X, Y, bias=0, lr=0.0001)\n",
    "perp.fit(15) #B = 0 e Lr =0.0001\n",
    "#perp.fit(4780) #B = 1 e Lr =0.1\n",
    "#perp.predict(np.array([100, 6.9]))"
   ]
  },
  {
   "cell_type": "code",
   "execution_count": 353,
   "metadata": {},
   "outputs": [
    {
     "name": "stdout",
     "output_type": "stream",
     "text": [
      "Bias = -2.0 - Pesos = [ 0.0178  -0.01114]\n"
     ]
    }
   ],
   "source": [
    "print(f\"Bias = {perp.bias} - Pesos = {perp.w}\")"
   ]
  },
  {
   "cell_type": "code",
   "execution_count": null,
   "metadata": {},
   "outputs": [],
   "source": []
  },
  {
   "cell_type": "code",
   "execution_count": null,
   "metadata": {},
   "outputs": [],
   "source": []
  },
  {
   "cell_type": "code",
   "execution_count": null,
   "metadata": {},
   "outputs": [],
   "source": []
  },
  {
   "cell_type": "code",
   "execution_count": 33,
   "metadata": {},
   "outputs": [],
   "source": []
  },
  {
   "cell_type": "code",
   "execution_count": null,
   "metadata": {},
   "outputs": [],
   "source": []
  },
  {
   "cell_type": "code",
   "execution_count": null,
   "metadata": {},
   "outputs": [],
   "source": []
  },
  {
   "cell_type": "code",
   "execution_count": null,
   "metadata": {},
   "outputs": [],
   "source": []
  },
  {
   "cell_type": "code",
   "execution_count": null,
   "metadata": {},
   "outputs": [],
   "source": []
  },
  {
   "cell_type": "code",
   "execution_count": null,
   "metadata": {},
   "outputs": [],
   "source": []
  },
  {
   "cell_type": "code",
   "execution_count": null,
   "metadata": {},
   "outputs": [],
   "source": []
  },
  {
   "cell_type": "code",
   "execution_count": null,
   "metadata": {},
   "outputs": [],
   "source": []
  },
  {
   "cell_type": "code",
   "execution_count": null,
   "metadata": {},
   "outputs": [],
   "source": []
  },
  {
   "cell_type": "code",
   "execution_count": null,
   "metadata": {},
   "outputs": [],
   "source": []
  },
  {
   "cell_type": "code",
   "execution_count": null,
   "metadata": {},
   "outputs": [],
   "source": []
  },
  {
   "cell_type": "code",
   "execution_count": null,
   "metadata": {},
   "outputs": [],
   "source": []
  },
  {
   "cell_type": "code",
   "execution_count": null,
   "metadata": {},
   "outputs": [],
   "source": []
  },
  {
   "cell_type": "code",
   "execution_count": null,
   "metadata": {},
   "outputs": [],
   "source": []
  },
  {
   "cell_type": "code",
   "execution_count": null,
   "metadata": {},
   "outputs": [],
   "source": []
  },
  {
   "cell_type": "code",
   "execution_count": null,
   "metadata": {},
   "outputs": [],
   "source": []
  }
 ],
 "metadata": {
  "kernelspec": {
   "display_name": "rede",
   "language": "python",
   "name": "rede"
  },
  "language_info": {
   "codemirror_mode": {
    "name": "ipython",
    "version": 3
   },
   "file_extension": ".py",
   "mimetype": "text/x-python",
   "name": "python",
   "nbconvert_exporter": "python",
   "pygments_lexer": "ipython3",
   "version": "3.10.1"
  }
 },
 "nbformat": 4,
 "nbformat_minor": 4
}
